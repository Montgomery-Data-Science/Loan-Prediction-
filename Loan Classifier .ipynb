{
 "cells": [
  {
   "cell_type": "markdown",
   "metadata": {},
   "source": [
    "# Loan Default Prediction Algorithm"
   ]
  },
  {
   "cell_type": "markdown",
   "metadata": {},
   "source": [
    "## Steps in CRISP-DM (Cross Industry Standard Process for Data Minning )"
   ]
  },
  {
   "cell_type": "markdown",
   "metadata": {},
   "source": [
    "Step 1: Understand the Business Objective/Question <br>\n",
    "Step 2: Data Understanding <br>\n",
    "Step 3: Data Preperation <br>\n",
    "Step 4: Modeling <br>\n",
    "Step 5: Evaluation <br>\n",
    "Step 6: Deployment <br>"
   ]
  },
  {
   "cell_type": "markdown",
   "metadata": {},
   "source": [
    "# Step 1: Understand the Business Question"
   ]
  },
  {
   "cell_type": "markdown",
   "metadata": {},
   "source": [
    "The Business question that this project seeks to answer is whether a individual that has a loan will default and the probability that the individual may default."
   ]
  },
  {
   "cell_type": "markdown",
   "metadata": {},
   "source": [
    "## Special Business Use Case"
   ]
  },
  {
   "cell_type": "markdown",
   "metadata": {},
   "source": [
    "Know the probability that a bank customer has of defaulting can be helpful to bankers when trying to set interest rates, because they will have a better idea of the risk involved with writing loans to each individual customer."
   ]
  },
  {
   "cell_type": "markdown",
   "metadata": {},
   "source": [
    "# Step 2: Data Understanding"
   ]
  },
  {
   "cell_type": "markdown",
   "metadata": {},
   "source": [
    "The following are the variables in our dataset that we must deploy in our classifcation model"
   ]
  },
  {
   "cell_type": "markdown",
   "metadata": {},
   "source": [
    "## **Data Dictionary**\n",
    "<br>\n",
    "### **Dependent Variable**\n",
    "<font color=\"blue\">**Loan Status:**</font> **Categorical variable**<br> that expresses if the loan was paid back or defaulted <br>\n",
    "<br>\n",
    "### **Independent Variables**\n",
    "<font color=\"blue\">**Current Loan Amount:**</font> **Numeric variable**<br> that represents the amount of the loan that was paid of fully or defaulted <br>\n",
    "<font color=\"blue\">**Term:**</font> **Categorical variable**<br> indicating the length of the loan <br>\n",
    "<font color=\"blue\">**Credit Score:**</font> **Numeric variable**<br> representing the riskiness of the customer <br>\n",
    "<font color=\"blue\">**Years in current job:**</font> **Ordinal variable**<br> that represents the amount of time the customer has spent in their current job <br>\n",
    "<font color=\"blue\">**Home Ownership:**</font> **Categorical variable**<br> that indicates whether the customer rents, has a mortgage or completely owns their home<br>\n",
    "<font color=\"blue\">**Annual Income:**</font> **Numeric variable**<br> representing the annual income of the customer <br>\n",
    "<font color=\"blue\">**Purpose:**</font> **Categorical variable**<br> representing why the customer wants the loan <br>\n",
    "<font color=\"blue\">**Monthly Debt :**</font> **Numeric variable**<br> representing monthly debt of the customer <br>\n",
    "<font color=\"blue\">**Years of Credit History:**</font> **Numeric variable**<br> representing years since the first entry into the customer’s credit history <br>\n",
    "<font color=\"blue\">**Months since last delinquent:**</font> **Numeric variable**<br> representing time since the customers last loan delinquent payment <br>\n",
    "<font color=\"blue\">**Number of Open Accounts:**</font> **Numeric variable**<br> representing the number of credit cards the customer currently has <br>\n",
    "<font color=\"blue\">**Number of Credit Problems:**</font> **Numeric variable**<br> representing the number of credit problems in the customer's history <br>\n",
    "<font color=\"blue\">**Current Credit Balance:**</font> **Numeric variable**<br> representing the current total debt of the customer <br>\n",
    "<font color=\"blue\">**Maximum Open Credit:**</font> **Numeric variable**<br> representing the max credit from all credit sources that the customer has<br>\n",
    "<font color=\"blue\">**Bankruptcies:**</font> **Numeric variable**<br> representing the number of bankruptcies of customer <br>\n",
    "<font color=\"blue\">**Tax Liens:**</font> **Numeric variable**<br> representing the number of Tax Liens of customer <br>\n",
    "<br>\n",
    "<br>\n",
    "### **Descriptive Variables**\n",
    "<font color=\"blue\">**Loan ID:**</font> Used to identify a specific loan; each is unique<br>\n",
    "<font color=\"blue\">**Customer ID:**</font> Used to identify a specific customer; may occur multiple times for multiple loans<br>"
   ]
  },
  {
   "cell_type": "markdown",
   "metadata": {},
   "source": [
    "# Step 3: Data Preperation "
   ]
  },
  {
   "cell_type": "markdown",
   "metadata": {},
   "source": [
    "## Begin by Downloading necessary libraries and reading necessary files into Data frames"
   ]
  },
  {
   "cell_type": "code",
   "execution_count": 1,
   "metadata": {},
   "outputs": [
    {
     "name": "stderr",
     "output_type": "stream",
     "text": [
      "C:\\Users\\smont\\Anaconda2\\lib\\site-packages\\IPython\\core\\interactiveshell.py:2717: DtypeWarning: Columns (16) have mixed types. Specify dtype option on import or set low_memory=False.\n",
      "  interactivity=interactivity, compiler=compiler, result=result)\n"
     ]
    }
   ],
   "source": [
    "import pandas as pd\n",
    "import numpy as np\n",
    "import matplotlib.pyplot as plt\n",
    "%matplotlib inline\n",
    "df=pd.read_csv('LoansTrainingSet.csv')\n"
   ]
  },
  {
   "cell_type": "code",
   "execution_count": 2,
   "metadata": {},
   "outputs": [
    {
     "name": "stdout",
     "output_type": "stream",
     "text": [
      "<class 'pandas.core.frame.DataFrame'>\n",
      "RangeIndex: 256984 entries, 0 to 256983\n",
      "Data columns (total 19 columns):\n",
      "Loan ID                         256984 non-null object\n",
      "Customer ID                     256984 non-null object\n",
      "Loan Status                     256984 non-null object\n",
      "Current Loan Amount             256984 non-null int64\n",
      "Term                            256984 non-null object\n",
      "Credit Score                    195308 non-null float64\n",
      "Years in current job            256984 non-null object\n",
      "Home Ownership                  256984 non-null object\n",
      "Annual Income                   195308 non-null float64\n",
      "Purpose                         256984 non-null object\n",
      "Monthly Debt                    256984 non-null object\n",
      "Years of Credit History         256984 non-null float64\n",
      "Months since last delinquent    116601 non-null float64\n",
      "Number of Open Accounts         256984 non-null int64\n",
      "Number of Credit Problems       256984 non-null int64\n",
      "Current Credit Balance          256984 non-null int64\n",
      "Maximum Open Credit             256984 non-null object\n",
      "Bankruptcies                    256455 non-null float64\n",
      "Tax Liens                       256961 non-null float64\n",
      "dtypes: float64(6), int64(4), object(9)\n",
      "memory usage: 37.3+ MB\n"
     ]
    }
   ],
   "source": [
    "df.info()"
   ]
  },
  {
   "cell_type": "markdown",
   "metadata": {},
   "source": [
    "## Step 3a Clean the Data "
   ]
  },
  {
   "cell_type": "markdown",
   "metadata": {},
   "source": [
    "## Remove Outliers "
   ]
  },
  {
   "cell_type": "markdown",
   "metadata": {},
   "source": [
    "### Credit Score Outliers"
   ]
  },
  {
   "cell_type": "markdown",
   "metadata": {},
   "source": [
    "Credit Score should be between 0-900"
   ]
  },
  {
   "cell_type": "code",
   "execution_count": 3,
   "metadata": {},
   "outputs": [
    {
     "data": {
      "text/plain": [
       "[6640.0,\n",
       " 7320.0,\n",
       " 7180.0,\n",
       " 6670.0,\n",
       " 7270.0,\n",
       " 7070.0,\n",
       " 7370.0,\n",
       " 7060.0,\n",
       " 7410.0,\n",
       " 7330.0]"
      ]
     },
     "execution_count": 3,
     "metadata": {},
     "output_type": "execute_result"
    }
   ],
   "source": [
    "# Check for numbers outside the range 0-900\n",
    "dfover=[]\n",
    "for row in df['Credit Score']:\n",
    "    if row>900:\n",
    "        dfover.append(row)\n",
    "dfover[:10]"
   ]
  },
  {
   "cell_type": "markdown",
   "metadata": {},
   "source": [
    "It appears that all the outliers have been entered with an extra 0. To fix this we will create a loop to remove the extra 0"
   ]
  },
  {
   "cell_type": "code",
   "execution_count": 4,
   "metadata": {},
   "outputs": [
    {
     "data": {
      "text/plain": [
       "751.0"
      ]
     },
     "execution_count": 4,
     "metadata": {},
     "output_type": "execute_result"
    }
   ],
   "source": [
    "# Remove Outliers outside of range 0-800 \n",
    "realnums=[]\n",
    "for row in df['Credit Score']:\n",
    "    if row>900:\n",
    "        real=row/10\n",
    "        realnums.append(real)\n",
    "    else:\n",
    "        realnums.append(row)\n",
    "\n",
    "df['Credit Score']=realnums\n",
    "df['Credit Score'].max()"
   ]
  },
  {
   "cell_type": "markdown",
   "metadata": {},
   "source": [
    "### Current Loan Amount Outliers"
   ]
  },
  {
   "cell_type": "markdown",
   "metadata": {},
   "source": [
    "plot the Current loan amount column as a histogram to check for outliers"
   ]
  },
  {
   "cell_type": "code",
   "execution_count": 5,
   "metadata": {},
   "outputs": [
    {
     "data": {
      "text/plain": [
       "(array([ 221774.,       0.,       0.,       0.,       0.,       0.,\n",
       "              0.,       0.,       0.,   35210.]),\n",
       " array([  5.05000000e+02,   1.00004544e+07,   2.00004038e+07,\n",
       "          3.00003532e+07,   4.00003026e+07,   5.00002520e+07,\n",
       "          6.00002014e+07,   7.00001508e+07,   8.00001002e+07,\n",
       "          9.00000496e+07,   9.99999990e+07]),\n",
       " <a list of 10 Patch objects>)"
      ]
     },
     "execution_count": 5,
     "metadata": {},
     "output_type": "execute_result"
    },
    {
     "data": {
      "image/png": "[encoded data removed]",
      "text/plain": [
       "<matplotlib.figure.Figure at 0xa7ec860>"
      ]
     },
     "metadata": {},
     "output_type": "display_data"
    }
   ],
   "source": [
    "plt.hist(df['Current Loan Amount'])"
   ]
  },
  {
   "cell_type": "markdown",
   "metadata": {},
   "source": [
    "Another way to check for outliers is to look at the mean vs median"
   ]
  },
  {
   "cell_type": "code",
   "execution_count": 6,
   "metadata": {},
   "outputs": [
    {
     "name": "stdout",
     "output_type": "stream",
     "text": [
      "13713306.2602\n",
      "14298.0\n"
     ]
    }
   ],
   "source": [
    "print df['Current Loan Amount'].mean()\n",
    "print df['Current Loan Amount'].median()"
   ]
  },
  {
   "cell_type": "markdown",
   "metadata": {},
   "source": [
    "when the mean is much larger than the median it indicates that the data is skwed right "
   ]
  },
  {
   "cell_type": "markdown",
   "metadata": {},
   "source": [
    "Now lets look at what and where the outliers are"
   ]
  },
  {
   "cell_type": "code",
   "execution_count": 7,
   "metadata": {},
   "outputs": [
    {
     "data": {
      "text/html": [
       "<div>\n",
       "<style>\n",
       "    .dataframe thead tr:only-child th {\n",
       "        text-align: right;\n",
       "    }\n",
       "\n",
       "    .dataframe thead th {\n",
       "        text-align: left;\n",
       "    }\n",
       "\n",
       "    .dataframe tbody tr th {\n",
       "        vertical-align: top;\n",
       "    }\n",
       "</style>\n",
       "<table border=\"1\" class=\"dataframe\">\n",
       "  <thead>\n",
       "    <tr style=\"text-align: right;\">\n",
       "      <th></th>\n",
       "      <th>Loan ID</th>\n",
       "      <th>Customer ID</th>\n",
       "      <th>Loan Status</th>\n",
       "      <th>Current Loan Amount</th>\n",
       "      <th>Term</th>\n",
       "      <th>Credit Score</th>\n",
       "      <th>Years in current job</th>\n",
       "      <th>Home Ownership</th>\n",
       "      <th>Annual Income</th>\n",
       "      <th>Purpose</th>\n",
       "      <th>Monthly Debt</th>\n",
       "      <th>Years of Credit History</th>\n",
       "      <th>Months since last delinquent</th>\n",
       "      <th>Number of Open Accounts</th>\n",
       "      <th>Number of Credit Problems</th>\n",
       "      <th>Current Credit Balance</th>\n",
       "      <th>Maximum Open Credit</th>\n",
       "      <th>Bankruptcies</th>\n",
       "      <th>Tax Liens</th>\n",
       "    </tr>\n",
       "  </thead>\n",
       "  <tbody>\n",
       "    <tr>\n",
       "      <th>10</th>\n",
       "      <td>00020fb0-6b8a-4b3a-8c72-9c4c847e8cb6</td>\n",
       "      <td>c9decd06-16f7-44c3-b007-8776f2a9233d</td>\n",
       "      <td>Fully Paid</td>\n",
       "      <td>99999999</td>\n",
       "      <td>Short Term</td>\n",
       "      <td>742.0</td>\n",
       "      <td>3 years</td>\n",
       "      <td>Home Mortgage</td>\n",
       "      <td>64760.0</td>\n",
       "      <td>Debt Consolidation</td>\n",
       "      <td>$582.84</td>\n",
       "      <td>26.8</td>\n",
       "      <td>NaN</td>\n",
       "      <td>11</td>\n",
       "      <td>0</td>\n",
       "      <td>8880</td>\n",
       "      <td>22711</td>\n",
       "      <td>0.0</td>\n",
       "      <td>0.0</td>\n",
       "    </tr>\n",
       "    <tr>\n",
       "      <th>16</th>\n",
       "      <td>0002c691-5314-44ab-b205-3fb1cc4ee6b2</td>\n",
       "      <td>41207d1e-5d13-43ec-9fe9-f222b4da5e0c</td>\n",
       "      <td>Fully Paid</td>\n",
       "      <td>99999999</td>\n",
       "      <td>Short Term</td>\n",
       "      <td>744.0</td>\n",
       "      <td>6 years</td>\n",
       "      <td>Home Mortgage</td>\n",
       "      <td>65605.0</td>\n",
       "      <td>Debt Consolidation</td>\n",
       "      <td>$984.07</td>\n",
       "      <td>21.0</td>\n",
       "      <td>NaN</td>\n",
       "      <td>5</td>\n",
       "      <td>1</td>\n",
       "      <td>11514</td>\n",
       "      <td>17262</td>\n",
       "      <td>1.0</td>\n",
       "      <td>0.0</td>\n",
       "    </tr>\n",
       "    <tr>\n",
       "      <th>23</th>\n",
       "      <td>0003fbfd-33ee-4ae9-8074-b46f6ff59281</td>\n",
       "      <td>c14bbc84-5041-4e70-bd64-3db51f7e80ae</td>\n",
       "      <td>Fully Paid</td>\n",
       "      <td>99999999</td>\n",
       "      <td>Short Term</td>\n",
       "      <td>745.0</td>\n",
       "      <td>10+ years</td>\n",
       "      <td>Rent</td>\n",
       "      <td>39476.0</td>\n",
       "      <td>other</td>\n",
       "      <td>$483.58</td>\n",
       "      <td>15.4</td>\n",
       "      <td>79.0</td>\n",
       "      <td>12</td>\n",
       "      <td>0</td>\n",
       "      <td>4636</td>\n",
       "      <td>21171</td>\n",
       "      <td>0.0</td>\n",
       "      <td>0.0</td>\n",
       "    </tr>\n",
       "    <tr>\n",
       "      <th>28</th>\n",
       "      <td>0004f37b-5859-40f6-98d0-367aa3b3f3f1</td>\n",
       "      <td>f662b062-5fa5-463d-b5c0-4e36d09fcab1</td>\n",
       "      <td>Fully Paid</td>\n",
       "      <td>99999999</td>\n",
       "      <td>Short Term</td>\n",
       "      <td>724.0</td>\n",
       "      <td>1 year</td>\n",
       "      <td>Own Home</td>\n",
       "      <td>34297.0</td>\n",
       "      <td>Home Improvements</td>\n",
       "      <td>$777.38</td>\n",
       "      <td>13.6</td>\n",
       "      <td>2.0</td>\n",
       "      <td>12</td>\n",
       "      <td>0</td>\n",
       "      <td>6720</td>\n",
       "      <td>53335</td>\n",
       "      <td>0.0</td>\n",
       "      <td>0.0</td>\n",
       "    </tr>\n",
       "    <tr>\n",
       "      <th>42</th>\n",
       "      <td>0008cacc-1ea9-4599-b114-12709b13c85d</td>\n",
       "      <td>cd853967-4535-4d36-bf93-269504c74911</td>\n",
       "      <td>Fully Paid</td>\n",
       "      <td>99999999</td>\n",
       "      <td>Short Term</td>\n",
       "      <td>750.0</td>\n",
       "      <td>10+ years</td>\n",
       "      <td>Own Home</td>\n",
       "      <td>86785.0</td>\n",
       "      <td>Other</td>\n",
       "      <td>$56.41</td>\n",
       "      <td>22.0</td>\n",
       "      <td>NaN</td>\n",
       "      <td>7</td>\n",
       "      <td>0</td>\n",
       "      <td>3959</td>\n",
       "      <td>63862</td>\n",
       "      <td>0.0</td>\n",
       "      <td>0.0</td>\n",
       "    </tr>\n",
       "  </tbody>\n",
       "</table>\n",
       "</div>"
      ],
      "text/plain": [
       "                                 Loan ID  \\\n",
       "10  00020fb0-6b8a-4b3a-8c72-9c4c847e8cb6   \n",
       "16  0002c691-5314-44ab-b205-3fb1cc4ee6b2   \n",
       "23  0003fbfd-33ee-4ae9-8074-b46f6ff59281   \n",
       "28  0004f37b-5859-40f6-98d0-367aa3b3f3f1   \n",
       "42  0008cacc-1ea9-4599-b114-12709b13c85d   \n",
       "\n",
       "                             Customer ID Loan Status  Current Loan Amount  \\\n",
       "10  c9decd06-16f7-44c3-b007-8776f2a9233d  Fully Paid             99999999   \n",
       "16  41207d1e-5d13-43ec-9fe9-f222b4da5e0c  Fully Paid             99999999   \n",
       "23  c14bbc84-5041-4e70-bd64-3db51f7e80ae  Fully Paid             99999999   \n",
       "28  f662b062-5fa5-463d-b5c0-4e36d09fcab1  Fully Paid             99999999   \n",
       "42  cd853967-4535-4d36-bf93-269504c74911  Fully Paid             99999999   \n",
       "\n",
       "          Term  Credit Score Years in current job Home Ownership  \\\n",
       "10  Short Term         742.0              3 years  Home Mortgage   \n",
       "16  Short Term         744.0              6 years  Home Mortgage   \n",
       "23  Short Term         745.0            10+ years           Rent   \n",
       "28  Short Term         724.0               1 year       Own Home   \n",
       "42  Short Term         750.0            10+ years       Own Home   \n",
       "\n",
       "    Annual Income             Purpose Monthly Debt  Years of Credit History  \\\n",
       "10        64760.0  Debt Consolidation      $582.84                     26.8   \n",
       "16        65605.0  Debt Consolidation      $984.07                     21.0   \n",
       "23        39476.0               other      $483.58                     15.4   \n",
       "28        34297.0   Home Improvements      $777.38                     13.6   \n",
       "42        86785.0               Other       $56.41                     22.0   \n",
       "\n",
       "    Months since last delinquent  Number of Open Accounts  \\\n",
       "10                           NaN                       11   \n",
       "16                           NaN                        5   \n",
       "23                          79.0                       12   \n",
       "28                           2.0                       12   \n",
       "42                           NaN                        7   \n",
       "\n",
       "    Number of Credit Problems  Current Credit Balance Maximum Open Credit  \\\n",
       "10                          0                    8880               22711   \n",
       "16                          1                   11514               17262   \n",
       "23                          0                    4636               21171   \n",
       "28                          0                    6720               53335   \n",
       "42                          0                    3959               63862   \n",
       "\n",
       "    Bankruptcies  Tax Liens  \n",
       "10           0.0        0.0  \n",
       "16           1.0        0.0  \n",
       "23           0.0        0.0  \n",
       "28           0.0        0.0  \n",
       "42           0.0        0.0  "
      ]
     },
     "execution_count": 7,
     "metadata": {},
     "output_type": "execute_result"
    }
   ],
   "source": [
    "greater_than_mean = df['Current Loan Amount'] > df['Current Loan Amount'].mean()\n",
    "df[greater_than_mean].head(5)"
   ]
  },
  {
   "cell_type": "markdown",
   "metadata": {},
   "source": [
    "Now lets repace the wrong numbers with the median value"
   ]
  },
  {
   "cell_type": "code",
   "execution_count": 8,
   "metadata": {
    "collapsed": true
   },
   "outputs": [],
   "source": [
    "median=df['Current Loan Amount'].median()\n",
    "quantile95 = df['Current Loan Amount'].quantile(.95)\n",
    "df['Current Loan Amount']=df['Current Loan Amount'].map(lambda x: median if x>=quantile95 else x)"
   ]
  },
  {
   "cell_type": "markdown",
   "metadata": {
    "collapsed": true
   },
   "source": [
    "Now lets look at the distibution again "
   ]
  },
  {
   "cell_type": "code",
   "execution_count": 9,
   "metadata": {},
   "outputs": [
    {
     "data": {
      "text/plain": [
       "(array([  1.99790000e+04,   4.65410000e+04,   5.14790000e+04,\n",
       "          6.91540000e+04,   2.78380000e+04,   1.60990000e+04,\n",
       "          1.05200000e+04,   6.61100000e+03,   8.76000000e+03,\n",
       "          3.00000000e+00]),\n",
       " array([   505. ,   4554.5,   8604. ,  12653.5,  16703. ,  20752.5,\n",
       "         24802. ,  28851.5,  32901. ,  36950.5,  41000. ]),\n",
       " <a list of 10 Patch objects>)"
      ]
     },
     "execution_count": 9,
     "metadata": {},
     "output_type": "execute_result"
    },
    {
     "data": {
      "image/png": "[encoded data removed]",
      "text/plain": [
       "<matplotlib.figure.Figure at 0xf755940>"
      ]
     },
     "metadata": {},
     "output_type": "display_data"
    }
   ],
   "source": [
    "plt.hist(df['Current Loan Amount'])"
   ]
  },
  {
   "cell_type": "code",
   "execution_count": null,
   "metadata": {
    "collapsed": true
   },
   "outputs": [],
   "source": []
  },
  {
   "cell_type": "markdown",
   "metadata": {},
   "source": [
    "### Duplicates"
   ]
  },
  {
   "cell_type": "markdown",
   "metadata": {},
   "source": [
    "check for duplicate customer ID's and Loan ID's"
   ]
  },
  {
   "cell_type": "code",
   "execution_count": 10,
   "metadata": {},
   "outputs": [
    {
     "name": "stdout",
     "output_type": "stream",
     "text": [
      "there should be 256984 but there are only 215700\n"
     ]
    }
   ],
   "source": [
    "# All loans Id's are unique so there should be no duplicates\n",
    "\n",
    "print 'there should be', len(df['Loan ID']), 'but there are only', df['Loan ID'].nunique()"
   ]
  },
  {
   "cell_type": "markdown",
   "metadata": {},
   "source": [
    "We must find and get rid of the duplicates while keeping the relavent data"
   ]
  },
  {
   "cell_type": "code",
   "execution_count": 11,
   "metadata": {
    "collapsed": true
   },
   "outputs": [],
   "source": [
    "df=df.groupby(df['Loan ID']).max()"
   ]
  },
  {
   "cell_type": "code",
   "execution_count": 12,
   "metadata": {},
   "outputs": [
    {
     "name": "stdout",
     "output_type": "stream",
     "text": [
      "215700 should be equal to 215700 if there are no duplicates\n"
     ]
    }
   ],
   "source": [
    "# Check to see if customers have taken out multiple loans by checking for duplicate Customer ID's\n",
    "\n",
    "print  len(df['Loan ID']), 'should be equal to', df['Loan ID'].nunique() , 'if there are no duplicates'"
   ]
  },
  {
   "cell_type": "markdown",
   "metadata": {},
   "source": [
    "There are no duplicate Customer ID's so we can move on to filling in the null values"
   ]
  },
  {
   "cell_type": "code",
   "execution_count": null,
   "metadata": {
    "collapsed": true
   },
   "outputs": [],
   "source": []
  },
  {
   "cell_type": "markdown",
   "metadata": {},
   "source": [
    "## Fill in the null values for\n",
    "   1) Months since last delinquent<br>\n",
    "   2) Bankruptcies<br>\n",
    "   3) Tax Liens<br>"
   ]
  },
  {
   "cell_type": "markdown",
   "metadata": {},
   "source": [
    "### Months since last delinquent null Values"
   ]
  },
  {
   "cell_type": "markdown",
   "metadata": {},
   "source": [
    "Check to see if There are 0 values otherwise nan may indicate no past history or 0 delinquent payments"
   ]
  },
  {
   "cell_type": "code",
   "execution_count": 13,
   "metadata": {},
   "outputs": [
    {
     "name": "stdout",
     "output_type": "stream",
     "text": [
      "We have a 0\n"
     ]
    }
   ],
   "source": [
    "for row in df['Months since last delinquent']:\n",
    "    if row==0:\n",
    "        print 'We have a 0'\n",
    "        break"
   ]
  },
  {
   "cell_type": "markdown",
   "metadata": {},
   "source": [
    "Look at where there are 0s in the Months since last delinquent column for patterns "
   ]
  },
  {
   "cell_type": "code",
   "execution_count": 14,
   "metadata": {},
   "outputs": [
    {
     "name": "stderr",
     "output_type": "stream",
     "text": [
      "C:\\Users\\smont\\Anaconda2\\lib\\site-packages\\ipykernel_launcher.py:8: DeprecationWarning: \n",
      ".ix is deprecated. Please use\n",
      ".loc for label based indexing or\n",
      ".iloc for positional indexing\n",
      "\n",
      "See the documentation here:\n",
      "http://pandas.pydata.org/pandas-docs/stable/indexing.html#deprecate_ix\n",
      "  \n"
     ]
    },
    {
     "data": {
      "text/html": [
       "<div>\n",
       "<style>\n",
       "    .dataframe thead tr:only-child th {\n",
       "        text-align: right;\n",
       "    }\n",
       "\n",
       "    .dataframe thead th {\n",
       "        text-align: left;\n",
       "    }\n",
       "\n",
       "    .dataframe tbody tr th {\n",
       "        vertical-align: top;\n",
       "    }\n",
       "</style>\n",
       "<table border=\"1\" class=\"dataframe\">\n",
       "  <thead>\n",
       "    <tr style=\"text-align: right;\">\n",
       "      <th></th>\n",
       "      <th>Loan ID</th>\n",
       "      <th>Customer ID</th>\n",
       "      <th>Loan Status</th>\n",
       "      <th>Current Loan Amount</th>\n",
       "      <th>Term</th>\n",
       "      <th>Credit Score</th>\n",
       "      <th>Years in current job</th>\n",
       "      <th>Home Ownership</th>\n",
       "      <th>Annual Income</th>\n",
       "      <th>Purpose</th>\n",
       "      <th>Monthly Debt</th>\n",
       "      <th>Years of Credit History</th>\n",
       "      <th>Months since last delinquent</th>\n",
       "      <th>Number of Open Accounts</th>\n",
       "      <th>Number of Credit Problems</th>\n",
       "      <th>Current Credit Balance</th>\n",
       "      <th>Maximum Open Credit</th>\n",
       "      <th>Bankruptcies</th>\n",
       "      <th>Tax Liens</th>\n",
       "    </tr>\n",
       "    <tr>\n",
       "      <th>Loan ID</th>\n",
       "      <th></th>\n",
       "      <th></th>\n",
       "      <th></th>\n",
       "      <th></th>\n",
       "      <th></th>\n",
       "      <th></th>\n",
       "      <th></th>\n",
       "      <th></th>\n",
       "      <th></th>\n",
       "      <th></th>\n",
       "      <th></th>\n",
       "      <th></th>\n",
       "      <th></th>\n",
       "      <th></th>\n",
       "      <th></th>\n",
       "      <th></th>\n",
       "      <th></th>\n",
       "      <th></th>\n",
       "      <th></th>\n",
       "    </tr>\n",
       "  </thead>\n",
       "  <tbody>\n",
       "    <tr>\n",
       "      <th>001eb42c-2b5b-4640-bf9d-8c086a1076f4</th>\n",
       "      <td>001eb42c-2b5b-4640-bf9d-8c086a1076f4</td>\n",
       "      <td>9377bba7-2cab-4478-91c2-a3ff2904638d</td>\n",
       "      <td>Fully Paid</td>\n",
       "      <td>12128.0</td>\n",
       "      <td>Short Term</td>\n",
       "      <td>747.0</td>\n",
       "      <td>7 years</td>\n",
       "      <td>Home Mortgage</td>\n",
       "      <td>90963.0</td>\n",
       "      <td>Debt Consolidation</td>\n",
       "      <td>$123.56</td>\n",
       "      <td>24.1</td>\n",
       "      <td>0.0</td>\n",
       "      <td>6</td>\n",
       "      <td>0</td>\n",
       "      <td>4406</td>\n",
       "      <td>28795</td>\n",
       "      <td>NaN</td>\n",
       "      <td>0.0</td>\n",
       "    </tr>\n",
       "    <tr>\n",
       "      <th>002dc37f-f6b5-4113-8d5c-53c25ac6111e</th>\n",
       "      <td>002dc37f-f6b5-4113-8d5c-53c25ac6111e</td>\n",
       "      <td>647fd091-0705-4a01-9da6-e57c427562f0</td>\n",
       "      <td>Fully Paid</td>\n",
       "      <td>5006.0</td>\n",
       "      <td>Short Term</td>\n",
       "      <td>749.0</td>\n",
       "      <td>&lt; 1 year</td>\n",
       "      <td>Own Home</td>\n",
       "      <td>45054.0</td>\n",
       "      <td>Debt Consolidation</td>\n",
       "      <td>$42.05</td>\n",
       "      <td>25.0</td>\n",
       "      <td>0.0</td>\n",
       "      <td>5</td>\n",
       "      <td>0</td>\n",
       "      <td>1785</td>\n",
       "      <td>0</td>\n",
       "      <td>NaN</td>\n",
       "      <td>NaN</td>\n",
       "    </tr>\n",
       "    <tr>\n",
       "      <th>003a3241-adbe-4337-b73a-5085c6834a74</th>\n",
       "      <td>003a3241-adbe-4337-b73a-5085c6834a74</td>\n",
       "      <td>08117601-9319-41e3-9fa6-6da917c70fa5</td>\n",
       "      <td>Charged Off</td>\n",
       "      <td>7253.0</td>\n",
       "      <td>Short Term</td>\n",
       "      <td>744.0</td>\n",
       "      <td>&lt; 1 year</td>\n",
       "      <td>Rent</td>\n",
       "      <td>45329.0</td>\n",
       "      <td>Debt Consolidation</td>\n",
       "      <td>$30.22</td>\n",
       "      <td>15.9</td>\n",
       "      <td>0.0</td>\n",
       "      <td>4</td>\n",
       "      <td>0</td>\n",
       "      <td>3356</td>\n",
       "      <td>10968</td>\n",
       "      <td>NaN</td>\n",
       "      <td>0.0</td>\n",
       "    </tr>\n",
       "    <tr>\n",
       "      <th>00603463-baa7-403d-ae74-752eee57d711</th>\n",
       "      <td>00603463-baa7-403d-ae74-752eee57d711</td>\n",
       "      <td>45fbec08-da53-44c1-a196-be3c6e794028</td>\n",
       "      <td>Fully Paid</td>\n",
       "      <td>8301.0</td>\n",
       "      <td>Short Term</td>\n",
       "      <td>747.0</td>\n",
       "      <td>9 years</td>\n",
       "      <td>Home Mortgage</td>\n",
       "      <td>49157.0</td>\n",
       "      <td>other</td>\n",
       "      <td>$405.13</td>\n",
       "      <td>35.8</td>\n",
       "      <td>0.0</td>\n",
       "      <td>14</td>\n",
       "      <td>0</td>\n",
       "      <td>7769</td>\n",
       "      <td>45432</td>\n",
       "      <td>NaN</td>\n",
       "      <td>0.0</td>\n",
       "    </tr>\n",
       "    <tr>\n",
       "      <th>00f848f9-0122-42a8-9386-88e28ecc9408</th>\n",
       "      <td>00f848f9-0122-42a8-9386-88e28ecc9408</td>\n",
       "      <td>2a326063-9fcf-40fa-af0f-a9339c6de96b</td>\n",
       "      <td>Fully Paid</td>\n",
       "      <td>6918.0</td>\n",
       "      <td>Short Term</td>\n",
       "      <td>740.0</td>\n",
       "      <td>10+ years</td>\n",
       "      <td>Own Home</td>\n",
       "      <td>96853.0</td>\n",
       "      <td>Debt Consolidation</td>\n",
       "      <td>$2,146.91</td>\n",
       "      <td>41.2</td>\n",
       "      <td>0.0</td>\n",
       "      <td>13</td>\n",
       "      <td>0</td>\n",
       "      <td>12352</td>\n",
       "      <td>34598</td>\n",
       "      <td>0.0</td>\n",
       "      <td>0.0</td>\n",
       "    </tr>\n",
       "  </tbody>\n",
       "</table>\n",
       "</div>"
      ],
      "text/plain": [
       "                                                                   Loan ID  \\\n",
       "Loan ID                                                                      \n",
       "001eb42c-2b5b-4640-bf9d-8c086a1076f4  001eb42c-2b5b-4640-bf9d-8c086a1076f4   \n",
       "002dc37f-f6b5-4113-8d5c-53c25ac6111e  002dc37f-f6b5-4113-8d5c-53c25ac6111e   \n",
       "003a3241-adbe-4337-b73a-5085c6834a74  003a3241-adbe-4337-b73a-5085c6834a74   \n",
       "00603463-baa7-403d-ae74-752eee57d711  00603463-baa7-403d-ae74-752eee57d711   \n",
       "00f848f9-0122-42a8-9386-88e28ecc9408  00f848f9-0122-42a8-9386-88e28ecc9408   \n",
       "\n",
       "                                                               Customer ID  \\\n",
       "Loan ID                                                                      \n",
       "001eb42c-2b5b-4640-bf9d-8c086a1076f4  9377bba7-2cab-4478-91c2-a3ff2904638d   \n",
       "002dc37f-f6b5-4113-8d5c-53c25ac6111e  647fd091-0705-4a01-9da6-e57c427562f0   \n",
       "003a3241-adbe-4337-b73a-5085c6834a74  08117601-9319-41e3-9fa6-6da917c70fa5   \n",
       "00603463-baa7-403d-ae74-752eee57d711  45fbec08-da53-44c1-a196-be3c6e794028   \n",
       "00f848f9-0122-42a8-9386-88e28ecc9408  2a326063-9fcf-40fa-af0f-a9339c6de96b   \n",
       "\n",
       "                                      Loan Status  Current Loan Amount  \\\n",
       "Loan ID                                                                  \n",
       "001eb42c-2b5b-4640-bf9d-8c086a1076f4   Fully Paid              12128.0   \n",
       "002dc37f-f6b5-4113-8d5c-53c25ac6111e   Fully Paid               5006.0   \n",
       "003a3241-adbe-4337-b73a-5085c6834a74  Charged Off               7253.0   \n",
       "00603463-baa7-403d-ae74-752eee57d711   Fully Paid               8301.0   \n",
       "00f848f9-0122-42a8-9386-88e28ecc9408   Fully Paid               6918.0   \n",
       "\n",
       "                                            Term  Credit Score  \\\n",
       "Loan ID                                                          \n",
       "001eb42c-2b5b-4640-bf9d-8c086a1076f4  Short Term         747.0   \n",
       "002dc37f-f6b5-4113-8d5c-53c25ac6111e  Short Term         749.0   \n",
       "003a3241-adbe-4337-b73a-5085c6834a74  Short Term         744.0   \n",
       "00603463-baa7-403d-ae74-752eee57d711  Short Term         747.0   \n",
       "00f848f9-0122-42a8-9386-88e28ecc9408  Short Term         740.0   \n",
       "\n",
       "                                     Years in current job Home Ownership  \\\n",
       "Loan ID                                                                    \n",
       "001eb42c-2b5b-4640-bf9d-8c086a1076f4              7 years  Home Mortgage   \n",
       "002dc37f-f6b5-4113-8d5c-53c25ac6111e             < 1 year       Own Home   \n",
       "003a3241-adbe-4337-b73a-5085c6834a74             < 1 year           Rent   \n",
       "00603463-baa7-403d-ae74-752eee57d711              9 years  Home Mortgage   \n",
       "00f848f9-0122-42a8-9386-88e28ecc9408            10+ years       Own Home   \n",
       "\n",
       "                                      Annual Income             Purpose  \\\n",
       "Loan ID                                                                   \n",
       "001eb42c-2b5b-4640-bf9d-8c086a1076f4        90963.0  Debt Consolidation   \n",
       "002dc37f-f6b5-4113-8d5c-53c25ac6111e        45054.0  Debt Consolidation   \n",
       "003a3241-adbe-4337-b73a-5085c6834a74        45329.0  Debt Consolidation   \n",
       "00603463-baa7-403d-ae74-752eee57d711        49157.0               other   \n",
       "00f848f9-0122-42a8-9386-88e28ecc9408        96853.0  Debt Consolidation   \n",
       "\n",
       "                                     Monthly Debt  Years of Credit History  \\\n",
       "Loan ID                                                                      \n",
       "001eb42c-2b5b-4640-bf9d-8c086a1076f4      $123.56                     24.1   \n",
       "002dc37f-f6b5-4113-8d5c-53c25ac6111e       $42.05                     25.0   \n",
       "003a3241-adbe-4337-b73a-5085c6834a74       $30.22                     15.9   \n",
       "00603463-baa7-403d-ae74-752eee57d711      $405.13                     35.8   \n",
       "00f848f9-0122-42a8-9386-88e28ecc9408   $2,146.91                      41.2   \n",
       "\n",
       "                                      Months since last delinquent  \\\n",
       "Loan ID                                                              \n",
       "001eb42c-2b5b-4640-bf9d-8c086a1076f4                           0.0   \n",
       "002dc37f-f6b5-4113-8d5c-53c25ac6111e                           0.0   \n",
       "003a3241-adbe-4337-b73a-5085c6834a74                           0.0   \n",
       "00603463-baa7-403d-ae74-752eee57d711                           0.0   \n",
       "00f848f9-0122-42a8-9386-88e28ecc9408                           0.0   \n",
       "\n",
       "                                      Number of Open Accounts  \\\n",
       "Loan ID                                                         \n",
       "001eb42c-2b5b-4640-bf9d-8c086a1076f4                        6   \n",
       "002dc37f-f6b5-4113-8d5c-53c25ac6111e                        5   \n",
       "003a3241-adbe-4337-b73a-5085c6834a74                        4   \n",
       "00603463-baa7-403d-ae74-752eee57d711                       14   \n",
       "00f848f9-0122-42a8-9386-88e28ecc9408                       13   \n",
       "\n",
       "                                      Number of Credit Problems  \\\n",
       "Loan ID                                                           \n",
       "001eb42c-2b5b-4640-bf9d-8c086a1076f4                          0   \n",
       "002dc37f-f6b5-4113-8d5c-53c25ac6111e                          0   \n",
       "003a3241-adbe-4337-b73a-5085c6834a74                          0   \n",
       "00603463-baa7-403d-ae74-752eee57d711                          0   \n",
       "00f848f9-0122-42a8-9386-88e28ecc9408                          0   \n",
       "\n",
       "                                      Current Credit Balance  \\\n",
       "Loan ID                                                        \n",
       "001eb42c-2b5b-4640-bf9d-8c086a1076f4                    4406   \n",
       "002dc37f-f6b5-4113-8d5c-53c25ac6111e                    1785   \n",
       "003a3241-adbe-4337-b73a-5085c6834a74                    3356   \n",
       "00603463-baa7-403d-ae74-752eee57d711                    7769   \n",
       "00f848f9-0122-42a8-9386-88e28ecc9408                   12352   \n",
       "\n",
       "                                     Maximum Open Credit  Bankruptcies  \\\n",
       "Loan ID                                                                  \n",
       "001eb42c-2b5b-4640-bf9d-8c086a1076f4               28795           NaN   \n",
       "002dc37f-f6b5-4113-8d5c-53c25ac6111e                   0           NaN   \n",
       "003a3241-adbe-4337-b73a-5085c6834a74               10968           NaN   \n",
       "00603463-baa7-403d-ae74-752eee57d711               45432           NaN   \n",
       "00f848f9-0122-42a8-9386-88e28ecc9408               34598           0.0   \n",
       "\n",
       "                                      Tax Liens  \n",
       "Loan ID                                          \n",
       "001eb42c-2b5b-4640-bf9d-8c086a1076f4        0.0  \n",
       "002dc37f-f6b5-4113-8d5c-53c25ac6111e        NaN  \n",
       "003a3241-adbe-4337-b73a-5085c6834a74        0.0  \n",
       "00603463-baa7-403d-ae74-752eee57d711        0.0  \n",
       "00f848f9-0122-42a8-9386-88e28ecc9408        0.0  "
      ]
     },
     "execution_count": 14,
     "metadata": {},
     "output_type": "execute_result"
    }
   ],
   "source": [
    "indexlist=[]\n",
    "s=0\n",
    "for row in df['Months since last delinquent']:\n",
    "    if row==0:\n",
    "        indexlist.append(s)\n",
    "    s+=1\n",
    "\n",
    "df.ix[indexlist].head(5)"
   ]
  },
  {
   "cell_type": "markdown",
   "metadata": {},
   "source": [
    "We can also look at the null values to see if there are a lot of credit Problems"
   ]
  },
  {
   "cell_type": "code",
   "execution_count": 15,
   "metadata": {},
   "outputs": [
    {
     "data": {
      "text/html": [
       "<div>\n",
       "<style>\n",
       "    .dataframe thead tr:only-child th {\n",
       "        text-align: right;\n",
       "    }\n",
       "\n",
       "    .dataframe thead th {\n",
       "        text-align: left;\n",
       "    }\n",
       "\n",
       "    .dataframe tbody tr th {\n",
       "        vertical-align: top;\n",
       "    }\n",
       "</style>\n",
       "<table border=\"1\" class=\"dataframe\">\n",
       "  <thead>\n",
       "    <tr style=\"text-align: right;\">\n",
       "      <th></th>\n",
       "      <th>Loan ID</th>\n",
       "      <th>Customer ID</th>\n",
       "      <th>Loan Status</th>\n",
       "      <th>Current Loan Amount</th>\n",
       "      <th>Term</th>\n",
       "      <th>Credit Score</th>\n",
       "      <th>Years in current job</th>\n",
       "      <th>Home Ownership</th>\n",
       "      <th>Annual Income</th>\n",
       "      <th>Purpose</th>\n",
       "      <th>Monthly Debt</th>\n",
       "      <th>Years of Credit History</th>\n",
       "      <th>Months since last delinquent</th>\n",
       "      <th>Number of Open Accounts</th>\n",
       "      <th>Number of Credit Problems</th>\n",
       "      <th>Current Credit Balance</th>\n",
       "      <th>Maximum Open Credit</th>\n",
       "      <th>Bankruptcies</th>\n",
       "      <th>Tax Liens</th>\n",
       "    </tr>\n",
       "    <tr>\n",
       "      <th>Loan ID</th>\n",
       "      <th></th>\n",
       "      <th></th>\n",
       "      <th></th>\n",
       "      <th></th>\n",
       "      <th></th>\n",
       "      <th></th>\n",
       "      <th></th>\n",
       "      <th></th>\n",
       "      <th></th>\n",
       "      <th></th>\n",
       "      <th></th>\n",
       "      <th></th>\n",
       "      <th></th>\n",
       "      <th></th>\n",
       "      <th></th>\n",
       "      <th></th>\n",
       "      <th></th>\n",
       "      <th></th>\n",
       "      <th></th>\n",
       "    </tr>\n",
       "  </thead>\n",
       "  <tbody>\n",
       "    <tr>\n",
       "      <th>00002c49-3a29-4bd4-8f67-c8f8fbc1048c</th>\n",
       "      <td>00002c49-3a29-4bd4-8f67-c8f8fbc1048c</td>\n",
       "      <td>927b388d-2e01-423f-a8dc-f7e42d668f46</td>\n",
       "      <td>Fully Paid</td>\n",
       "      <td>3441.0</td>\n",
       "      <td>Short Term</td>\n",
       "      <td>734.0</td>\n",
       "      <td>4 years</td>\n",
       "      <td>Home Mortgage</td>\n",
       "      <td>42269.0</td>\n",
       "      <td>other</td>\n",
       "      <td>$1,106.04</td>\n",
       "      <td>26.3</td>\n",
       "      <td>NaN</td>\n",
       "      <td>17</td>\n",
       "      <td>0</td>\n",
       "      <td>6262</td>\n",
       "      <td>19149</td>\n",
       "      <td>0.0</td>\n",
       "      <td>0.0</td>\n",
       "    </tr>\n",
       "    <tr>\n",
       "      <th>00002d89-27f3-409b-aa76-90834f359a65</th>\n",
       "      <td>00002d89-27f3-409b-aa76-90834f359a65</td>\n",
       "      <td>defce609-c631-447d-aad6-1270615e89c4</td>\n",
       "      <td>Fully Paid</td>\n",
       "      <td>21029.0</td>\n",
       "      <td>Short Term</td>\n",
       "      <td>747.0</td>\n",
       "      <td>10+ years</td>\n",
       "      <td>Home Mortgage</td>\n",
       "      <td>90126.0</td>\n",
       "      <td>Debt Consolidation</td>\n",
       "      <td>$1,321.85</td>\n",
       "      <td>28.8</td>\n",
       "      <td>NaN</td>\n",
       "      <td>5</td>\n",
       "      <td>0</td>\n",
       "      <td>20967</td>\n",
       "      <td>28335</td>\n",
       "      <td>0.0</td>\n",
       "      <td>0.0</td>\n",
       "    </tr>\n",
       "    <tr>\n",
       "      <th>00005222-b4d8-45a4-ad8c-186057e24233</th>\n",
       "      <td>00005222-b4d8-45a4-ad8c-186057e24233</td>\n",
       "      <td>070bcecb-aae7-4485-a26a-e0403e7bb6c5</td>\n",
       "      <td>Fully Paid</td>\n",
       "      <td>18743.0</td>\n",
       "      <td>Short Term</td>\n",
       "      <td>747.0</td>\n",
       "      <td>10+ years</td>\n",
       "      <td>Own Home</td>\n",
       "      <td>38072.0</td>\n",
       "      <td>Debt Consolidation</td>\n",
       "      <td>$751.92</td>\n",
       "      <td>26.2</td>\n",
       "      <td>NaN</td>\n",
       "      <td>9</td>\n",
       "      <td>0</td>\n",
       "      <td>22529</td>\n",
       "      <td>43915</td>\n",
       "      <td>0.0</td>\n",
       "      <td>0.0</td>\n",
       "    </tr>\n",
       "    <tr>\n",
       "      <th>0000757f-a121-41ed-b17b-162e76647c1f</th>\n",
       "      <td>0000757f-a121-41ed-b17b-162e76647c1f</td>\n",
       "      <td>dde79588-12f0-4811-bab0-e2b07f633fcd</td>\n",
       "      <td>Fully Paid</td>\n",
       "      <td>11731.0</td>\n",
       "      <td>Short Term</td>\n",
       "      <td>746.0</td>\n",
       "      <td>4 years</td>\n",
       "      <td>Rent</td>\n",
       "      <td>50025.0</td>\n",
       "      <td>Debt Consolidation</td>\n",
       "      <td>$355.18</td>\n",
       "      <td>11.5</td>\n",
       "      <td>NaN</td>\n",
       "      <td>12</td>\n",
       "      <td>0</td>\n",
       "      <td>17391</td>\n",
       "      <td>37081</td>\n",
       "      <td>0.0</td>\n",
       "      <td>0.0</td>\n",
       "    </tr>\n",
       "    <tr>\n",
       "      <th>0000a149-b055-4a57-b762-280783ccc25e</th>\n",
       "      <td>0000a149-b055-4a57-b762-280783ccc25e</td>\n",
       "      <td>62ddc017-7023-4ba7-af23-1a7cd16c1ce5</td>\n",
       "      <td>Fully Paid</td>\n",
       "      <td>10208.0</td>\n",
       "      <td>Short Term</td>\n",
       "      <td>716.0</td>\n",
       "      <td>10+ years</td>\n",
       "      <td>Rent</td>\n",
       "      <td>41853.0</td>\n",
       "      <td>Business Loan</td>\n",
       "      <td>$561.52</td>\n",
       "      <td>13.2</td>\n",
       "      <td>NaN</td>\n",
       "      <td>4</td>\n",
       "      <td>1</td>\n",
       "      <td>2289</td>\n",
       "      <td>4671</td>\n",
       "      <td>1.0</td>\n",
       "      <td>0.0</td>\n",
       "    </tr>\n",
       "  </tbody>\n",
       "</table>\n",
       "</div>"
      ],
      "text/plain": [
       "                                                                   Loan ID  \\\n",
       "Loan ID                                                                      \n",
       "00002c49-3a29-4bd4-8f67-c8f8fbc1048c  00002c49-3a29-4bd4-8f67-c8f8fbc1048c   \n",
       "00002d89-27f3-409b-aa76-90834f359a65  00002d89-27f3-409b-aa76-90834f359a65   \n",
       "00005222-b4d8-45a4-ad8c-186057e24233  00005222-b4d8-45a4-ad8c-186057e24233   \n",
       "0000757f-a121-41ed-b17b-162e76647c1f  0000757f-a121-41ed-b17b-162e76647c1f   \n",
       "0000a149-b055-4a57-b762-280783ccc25e  0000a149-b055-4a57-b762-280783ccc25e   \n",
       "\n",
       "                                                               Customer ID  \\\n",
       "Loan ID                                                                      \n",
       "00002c49-3a29-4bd4-8f67-c8f8fbc1048c  927b388d-2e01-423f-a8dc-f7e42d668f46   \n",
       "00002d89-27f3-409b-aa76-90834f359a65  defce609-c631-447d-aad6-1270615e89c4   \n",
       "00005222-b4d8-45a4-ad8c-186057e24233  070bcecb-aae7-4485-a26a-e0403e7bb6c5   \n",
       "0000757f-a121-41ed-b17b-162e76647c1f  dde79588-12f0-4811-bab0-e2b07f633fcd   \n",
       "0000a149-b055-4a57-b762-280783ccc25e  62ddc017-7023-4ba7-af23-1a7cd16c1ce5   \n",
       "\n",
       "                                     Loan Status  Current Loan Amount  \\\n",
       "Loan ID                                                                 \n",
       "00002c49-3a29-4bd4-8f67-c8f8fbc1048c  Fully Paid               3441.0   \n",
       "00002d89-27f3-409b-aa76-90834f359a65  Fully Paid              21029.0   \n",
       "00005222-b4d8-45a4-ad8c-186057e24233  Fully Paid              18743.0   \n",
       "0000757f-a121-41ed-b17b-162e76647c1f  Fully Paid              11731.0   \n",
       "0000a149-b055-4a57-b762-280783ccc25e  Fully Paid              10208.0   \n",
       "\n",
       "                                            Term  Credit Score  \\\n",
       "Loan ID                                                          \n",
       "00002c49-3a29-4bd4-8f67-c8f8fbc1048c  Short Term         734.0   \n",
       "00002d89-27f3-409b-aa76-90834f359a65  Short Term         747.0   \n",
       "00005222-b4d8-45a4-ad8c-186057e24233  Short Term         747.0   \n",
       "0000757f-a121-41ed-b17b-162e76647c1f  Short Term         746.0   \n",
       "0000a149-b055-4a57-b762-280783ccc25e  Short Term         716.0   \n",
       "\n",
       "                                     Years in current job Home Ownership  \\\n",
       "Loan ID                                                                    \n",
       "00002c49-3a29-4bd4-8f67-c8f8fbc1048c              4 years  Home Mortgage   \n",
       "00002d89-27f3-409b-aa76-90834f359a65            10+ years  Home Mortgage   \n",
       "00005222-b4d8-45a4-ad8c-186057e24233            10+ years       Own Home   \n",
       "0000757f-a121-41ed-b17b-162e76647c1f              4 years           Rent   \n",
       "0000a149-b055-4a57-b762-280783ccc25e            10+ years           Rent   \n",
       "\n",
       "                                      Annual Income             Purpose  \\\n",
       "Loan ID                                                                   \n",
       "00002c49-3a29-4bd4-8f67-c8f8fbc1048c        42269.0               other   \n",
       "00002d89-27f3-409b-aa76-90834f359a65        90126.0  Debt Consolidation   \n",
       "00005222-b4d8-45a4-ad8c-186057e24233        38072.0  Debt Consolidation   \n",
       "0000757f-a121-41ed-b17b-162e76647c1f        50025.0  Debt Consolidation   \n",
       "0000a149-b055-4a57-b762-280783ccc25e        41853.0       Business Loan   \n",
       "\n",
       "                                     Monthly Debt  Years of Credit History  \\\n",
       "Loan ID                                                                      \n",
       "00002c49-3a29-4bd4-8f67-c8f8fbc1048c   $1,106.04                      26.3   \n",
       "00002d89-27f3-409b-aa76-90834f359a65   $1,321.85                      28.8   \n",
       "00005222-b4d8-45a4-ad8c-186057e24233      $751.92                     26.2   \n",
       "0000757f-a121-41ed-b17b-162e76647c1f      $355.18                     11.5   \n",
       "0000a149-b055-4a57-b762-280783ccc25e      $561.52                     13.2   \n",
       "\n",
       "                                      Months since last delinquent  \\\n",
       "Loan ID                                                              \n",
       "00002c49-3a29-4bd4-8f67-c8f8fbc1048c                           NaN   \n",
       "00002d89-27f3-409b-aa76-90834f359a65                           NaN   \n",
       "00005222-b4d8-45a4-ad8c-186057e24233                           NaN   \n",
       "0000757f-a121-41ed-b17b-162e76647c1f                           NaN   \n",
       "0000a149-b055-4a57-b762-280783ccc25e                           NaN   \n",
       "\n",
       "                                      Number of Open Accounts  \\\n",
       "Loan ID                                                         \n",
       "00002c49-3a29-4bd4-8f67-c8f8fbc1048c                       17   \n",
       "00002d89-27f3-409b-aa76-90834f359a65                        5   \n",
       "00005222-b4d8-45a4-ad8c-186057e24233                        9   \n",
       "0000757f-a121-41ed-b17b-162e76647c1f                       12   \n",
       "0000a149-b055-4a57-b762-280783ccc25e                        4   \n",
       "\n",
       "                                      Number of Credit Problems  \\\n",
       "Loan ID                                                           \n",
       "00002c49-3a29-4bd4-8f67-c8f8fbc1048c                          0   \n",
       "00002d89-27f3-409b-aa76-90834f359a65                          0   \n",
       "00005222-b4d8-45a4-ad8c-186057e24233                          0   \n",
       "0000757f-a121-41ed-b17b-162e76647c1f                          0   \n",
       "0000a149-b055-4a57-b762-280783ccc25e                          1   \n",
       "\n",
       "                                      Current Credit Balance  \\\n",
       "Loan ID                                                        \n",
       "00002c49-3a29-4bd4-8f67-c8f8fbc1048c                    6262   \n",
       "00002d89-27f3-409b-aa76-90834f359a65                   20967   \n",
       "00005222-b4d8-45a4-ad8c-186057e24233                   22529   \n",
       "0000757f-a121-41ed-b17b-162e76647c1f                   17391   \n",
       "0000a149-b055-4a57-b762-280783ccc25e                    2289   \n",
       "\n",
       "                                     Maximum Open Credit  Bankruptcies  \\\n",
       "Loan ID                                                                  \n",
       "00002c49-3a29-4bd4-8f67-c8f8fbc1048c               19149           0.0   \n",
       "00002d89-27f3-409b-aa76-90834f359a65               28335           0.0   \n",
       "00005222-b4d8-45a4-ad8c-186057e24233               43915           0.0   \n",
       "0000757f-a121-41ed-b17b-162e76647c1f               37081           0.0   \n",
       "0000a149-b055-4a57-b762-280783ccc25e                4671           1.0   \n",
       "\n",
       "                                      Tax Liens  \n",
       "Loan ID                                          \n",
       "00002c49-3a29-4bd4-8f67-c8f8fbc1048c        0.0  \n",
       "00002d89-27f3-409b-aa76-90834f359a65        0.0  \n",
       "00005222-b4d8-45a4-ad8c-186057e24233        0.0  \n",
       "0000757f-a121-41ed-b17b-162e76647c1f        0.0  \n",
       "0000a149-b055-4a57-b762-280783ccc25e        0.0  "
      ]
     },
     "execution_count": 15,
     "metadata": {},
     "output_type": "execute_result"
    }
   ],
   "source": [
    "indexlist=[]\n",
    "s=0\n",
    "for row in df['Months since last delinquent']:\n",
    "    if pd.isnull(row):\n",
    "        indexlist.append(s)\n",
    "    s+=1\n",
    "\n",
    "df.ix[indexlist].head(5)"
   ]
  },
  {
   "cell_type": "markdown",
   "metadata": {},
   "source": [
    "Looking at the Number in the column Credit Problems we see that they are mostly 0 so we can assume that 0 and null means that the customer has no past delinquent payments, because he has no Credit Problems."
   ]
  },
  {
   "cell_type": "markdown",
   "metadata": {},
   "source": [
    "Now to convert the null values to 0 and leave the current 0s alone would not make sense, because it would indicate that the individual just had a delinquent payment so we must convert the variable into a categorical variable then convert the null and 0 values into a separate string"
   ]
  },
  {
   "cell_type": "code",
   "execution_count": 16,
   "metadata": {
    "collapsed": true
   },
   "outputs": [],
   "source": [
    "# convert int months into categorical variables \n",
    "# convert NaN values into category 'no past history'\n",
    "\n",
    "# create bins out of the different time periods and store each instance in new list\n",
    "newlist=[]\n",
    "for row in df['Months since last delinquent']:\n",
    "    if 0<row<=12:\n",
    "        n = 'less than a year'\n",
    "        newlist.append(n)\n",
    "    elif row>12 and row<=24:\n",
    "        n = 'Over a year'\n",
    "        newlist.append(n)\n",
    "    elif row>24 and row<=36:\n",
    "        n = 'Over two years'\n",
    "        newlist.append(n)\n",
    "    elif row>36:\n",
    "        n = 'Over three years'\n",
    "        newlist.append(n)\n",
    "    else:\n",
    "        n= 'no past history'\n",
    "        newlist.append(n)\n",
    "\n",
    "# assign new list to the column \n",
    "df['Months since last delinquent']=newlist\n",
    "\n"
   ]
  },
  {
   "cell_type": "markdown",
   "metadata": {},
   "source": [
    "### Tax Liens null Values"
   ]
  },
  {
   "cell_type": "markdown",
   "metadata": {},
   "source": [
    "Find the number of null values in the tax Liens column "
   ]
  },
  {
   "cell_type": "code",
   "execution_count": 17,
   "metadata": {},
   "outputs": [
    {
     "data": {
      "text/plain": [
       "22"
      ]
     },
     "execution_count": 17,
     "metadata": {},
     "output_type": "execute_result"
    }
   ],
   "source": [
    "df['Tax Liens'].isnull().sum()"
   ]
  },
  {
   "cell_type": "markdown",
   "metadata": {},
   "source": [
    "Because there are only a few null values fill in the Null Values with the mode "
   ]
  },
  {
   "cell_type": "code",
   "execution_count": 18,
   "metadata": {},
   "outputs": [
    {
     "name": "stdout",
     "output_type": "stream",
     "text": [
      "0    0.0\n",
      "dtype: float64\n"
     ]
    }
   ],
   "source": [
    "TaxLiens_mode=df['Tax Liens'].mode()\n",
    "\n",
    "print TaxLiens_mode\n",
    "\n",
    "df['Tax Liens'].fillna(0,inplace=True)"
   ]
  },
  {
   "cell_type": "markdown",
   "metadata": {},
   "source": [
    "### Bankruptcies null Values"
   ]
  },
  {
   "cell_type": "markdown",
   "metadata": {},
   "source": [
    "Find the number of null values in the Bankruptcies column "
   ]
  },
  {
   "cell_type": "code",
   "execution_count": 19,
   "metadata": {},
   "outputs": [
    {
     "data": {
      "text/plain": [
       "0"
      ]
     },
     "execution_count": 19,
     "metadata": {},
     "output_type": "execute_result"
    }
   ],
   "source": [
    "df['Tax Liens'].isnull().sum()"
   ]
  },
  {
   "cell_type": "markdown",
   "metadata": {},
   "source": [
    "Because there are only a few null values fill in the Null Values with the mode "
   ]
  },
  {
   "cell_type": "code",
   "execution_count": 20,
   "metadata": {},
   "outputs": [
    {
     "name": "stdout",
     "output_type": "stream",
     "text": [
      "0    0.0\n",
      "dtype: float64\n"
     ]
    }
   ],
   "source": [
    "Bankruptcies_mode=df['Bankruptcies'].mode()\n",
    "\n",
    "print Bankruptcies_mode\n",
    "\n",
    "df['Bankruptcies'].fillna(0,inplace=True)"
   ]
  },
  {
   "cell_type": "markdown",
   "metadata": {},
   "source": [
    "## Data Cleaning and Preprocessing \n",
    "   1) Monthly Debt<br>\n",
    "   2) Purpouse<br>\n",
    "   3) Maximum Open Credit<br>"
   ]
  },
  {
   "cell_type": "markdown",
   "metadata": {},
   "source": [
    "### Monthly Debt"
   ]
  },
  {
   "cell_type": "markdown",
   "metadata": {},
   "source": [
    "Convert Montly Debt column from an object to an int variable"
   ]
  },
  {
   "cell_type": "code",
   "execution_count": 21,
   "metadata": {
    "collapsed": true
   },
   "outputs": [],
   "source": [
    "# loop stores charachters with ascii values between 0 and 9 in a list then assigns that list to the column Monthly Debt \n",
    "debtlist=[]\n",
    "for row in df['Monthly Debt']:\n",
    "    row=str(row)\n",
    "    numlist=[]\n",
    "    for nums in row:\n",
    "        if nums>='0':\n",
    "            if nums<='9':\n",
    "                numlist.append(nums)\n",
    "    numlist=numlist[0:-2]\n",
    "    numlist=\"\".join(numlist)\n",
    "    numlist=int(numlist)\n",
    "    debtlist.append(numlist)\n",
    "\n",
    "df['Monthly Debt']=debtlist"
   ]
  },
  {
   "cell_type": "markdown",
   "metadata": {},
   "source": [
    "### Purpouse "
   ]
  },
  {
   "cell_type": "markdown",
   "metadata": {},
   "source": [
    "Check to ensure there are no duplicates in the purpouse column "
   ]
  },
  {
   "cell_type": "code",
   "execution_count": 22,
   "metadata": {},
   "outputs": [
    {
     "name": "stdout",
     "output_type": "stream",
     "text": [
      "['Debt Consolidation' 'other' 'Business Loan' 'Home Improvements'\n",
      " 'Buy House' 'Other' 'Buy a Car' 'Medical Bills' 'Take a Trip'\n",
      " 'Educational Expenses']\n"
     ]
    }
   ],
   "source": [
    "# looks at all the unique values in the purpouse column \n",
    "print df['Purpose'].unique()"
   ]
  },
  {
   "cell_type": "markdown",
   "metadata": {},
   "source": [
    "We see an error in that there are to instances of other each spelled differently. This must be fixed or else the algorithm will see these two instances of other as separate categorical variables. "
   ]
  },
  {
   "cell_type": "code",
   "execution_count": 23,
   "metadata": {},
   "outputs": [
    {
     "name": "stdout",
     "output_type": "stream",
     "text": [
      "['Debt Consolidation' 'Other' 'Business Loan' 'Home Improvements'\n",
      " 'Buy House' 'Buy a Car' 'Medical Bills' 'Take a Trip'\n",
      " 'Educational Expenses']\n"
     ]
    }
   ],
   "source": [
    "# function converts all instances of other into Other\n",
    "df['Purpose']=df['Purpose'].map(lambda x: 'Other' if x=='other' else x)\n",
    "print df['Purpose'].unique()"
   ]
  },
  {
   "cell_type": "code",
   "execution_count": 24,
   "metadata": {},
   "outputs": [
    {
     "name": "stdout",
     "output_type": "stream",
     "text": [
      "<class 'pandas.core.frame.DataFrame'>\n",
      "Index: 215700 entries, 000025bb-5694-4cff-b17d-192b1a98ba44 to ffffe32e-ed17-459f-9cfd-7b9ee7972933\n",
      "Data columns (total 19 columns):\n",
      "Loan ID                         215700 non-null object\n",
      "Customer ID                     215700 non-null object\n",
      "Loan Status                     215700 non-null object\n",
      "Current Loan Amount             215700 non-null float64\n",
      "Term                            215700 non-null object\n",
      "Credit Score                    171202 non-null float64\n",
      "Years in current job            215700 non-null object\n",
      "Home Ownership                  215700 non-null object\n",
      "Annual Income                   171202 non-null float64\n",
      "Purpose                         215700 non-null object\n",
      "Monthly Debt                    215700 non-null int64\n",
      "Years of Credit History         215700 non-null float64\n",
      "Months since last delinquent    215700 non-null object\n",
      "Number of Open Accounts         215700 non-null int64\n",
      "Number of Credit Problems       215700 non-null int64\n",
      "Current Credit Balance          215700 non-null int64\n",
      "Maximum Open Credit             215700 non-null object\n",
      "Bankruptcies                    215700 non-null float64\n",
      "Tax Liens                       215700 non-null float64\n",
      "dtypes: float64(6), int64(4), object(9)\n",
      "memory usage: 32.9+ MB\n"
     ]
    }
   ],
   "source": [
    "df.info()"
   ]
  },
  {
   "cell_type": "code",
   "execution_count": 25,
   "metadata": {},
   "outputs": [
    {
     "data": {
      "text/plain": [
       "Loan ID                         b798f46b-e27b-4823-af83-294b1ffc3490\n",
       "Customer ID                     f61890c5-e264-4b0f-a047-9cfa03b9d182\n",
       "Loan Status                                              Charged Off\n",
       "Current Loan Amount                                             1470\n",
       "Term                                                      Short Term\n",
       "Credit Score                                                     725\n",
       "Years in current job                                         2 years\n",
       "Home Ownership                                                  Rent\n",
       "Annual Income                                                  39200\n",
       "Purpose                                           Debt Consolidation\n",
       "Monthly Debt                                                     506\n",
       "Years of Credit History                                         15.3\n",
       "Months since last delinquent                          Over two years\n",
       "Number of Open Accounts                                            3\n",
       "Number of Credit Problems                                          0\n",
       "Current Credit Balance                                             0\n",
       "Maximum Open Credit                                          #VALUE!\n",
       "Bankruptcies                                                       0\n",
       "Tax Liens                                                          0\n",
       "Name: b798f46b-e27b-4823-af83-294b1ffc3490, dtype: object"
      ]
     },
     "execution_count": 25,
     "metadata": {},
     "output_type": "execute_result"
    }
   ],
   "source": [
    "df.ix[154841]"
   ]
  },
  {
   "cell_type": "markdown",
   "metadata": {},
   "source": [
    "### Maximum Open Credit"
   ]
  },
  {
   "cell_type": "markdown",
   "metadata": {},
   "source": [
    "First we must convert all the non integer values into intgers "
   ]
  },
  {
   "cell_type": "code",
   "execution_count": 26,
   "metadata": {},
   "outputs": [
    {
     "name": "stderr",
     "output_type": "stream",
     "text": [
      "C:\\Users\\smont\\Anaconda2\\lib\\site-packages\\ipykernel_launcher.py:12: SettingWithCopyWarning: \n",
      "A value is trying to be set on a copy of a slice from a DataFrame\n",
      "\n",
      "See the caveats in the documentation: http://pandas.pydata.org/pandas-docs/stable/indexing.html#indexing-view-versus-copy\n",
      "  if sys.path[0] == '':\n"
     ]
    }
   ],
   "source": [
    "# convert object variables into int variables\n",
    "s=0\n",
    "indexlist=[]\n",
    "for row in df['Maximum Open Credit']:  \n",
    "    try:\n",
    "        int(row)\n",
    "    except ValueError:\n",
    "        indexlist.append(s)\n",
    "    s+=1\n",
    "\n",
    "    \n",
    "df['Maximum Open Credit'][indexlist]=0\n",
    "df['Maximum Open Credit']=df['Maximum Open Credit'].apply(lambda x: int(x))"
   ]
  },
  {
   "cell_type": "code",
   "execution_count": 27,
   "metadata": {},
   "outputs": [
    {
     "data": {
      "text/plain": [
       "Loan ID                         b798f46b-e27b-4823-af83-294b1ffc3490\n",
       "Customer ID                     f61890c5-e264-4b0f-a047-9cfa03b9d182\n",
       "Loan Status                                              Charged Off\n",
       "Current Loan Amount                                             1470\n",
       "Term                                                      Short Term\n",
       "Credit Score                                                     725\n",
       "Years in current job                                         2 years\n",
       "Home Ownership                                                  Rent\n",
       "Annual Income                                                  39200\n",
       "Purpose                                           Debt Consolidation\n",
       "Monthly Debt                                                     506\n",
       "Years of Credit History                                         15.3\n",
       "Months since last delinquent                          Over two years\n",
       "Number of Open Accounts                                            3\n",
       "Number of Credit Problems                                          0\n",
       "Current Credit Balance                                             0\n",
       "Maximum Open Credit                                                0\n",
       "Bankruptcies                                                       0\n",
       "Tax Liens                                                          0\n",
       "Name: b798f46b-e27b-4823-af83-294b1ffc3490, dtype: object"
      ]
     },
     "execution_count": 27,
     "metadata": {},
     "output_type": "execute_result"
    }
   ],
   "source": [
    "df.ix[154841]"
   ]
  },
  {
   "cell_type": "markdown",
   "metadata": {},
   "source": [
    "Now that we have the index of all the non-int values which we gave a value of 0 we are going to fill in these values based of the customers number of Open Accounts"
   ]
  },
  {
   "cell_type": "markdown",
   "metadata": {},
   "source": [
    "We will use the mean of maximum Open Credit as a value and the Number of Open accounts as the key in a dictionary that will be applied to the 0 values we found above"
   ]
  },
  {
   "cell_type": "code",
   "execution_count": 28,
   "metadata": {},
   "outputs": [],
   "source": [
    "# find the mean for each instance of Number of open Accounts \n",
    "# i.e. what is the mean maximum open credit for all customers with 1 open account\n",
    "df2=df.drop(df.index[indexlist])\n",
    "dflist=pd.DataFrame()\n",
    "dflist=df2.groupby('Number of Open Accounts')['Maximum Open Credit'].mean()\n",
    "df3=pd.DataFrame(dflist)"
   ]
  },
  {
   "cell_type": "code",
   "execution_count": 29,
   "metadata": {},
   "outputs": [
    {
     "data": {
      "text/plain": [
       "215700"
      ]
     },
     "execution_count": 29,
     "metadata": {},
     "output_type": "execute_result"
    }
   ],
   "source": [
    "len(df)"
   ]
  },
  {
   "cell_type": "markdown",
   "metadata": {},
   "source": [
    "Now that we have the mean value for each instance of number of open accounts we will store each instance of number of open accounts in a list and combine it with the list of means to create a dictionary"
   ]
  },
  {
   "cell_type": "code",
   "execution_count": 30,
   "metadata": {
    "collapsed": true
   },
   "outputs": [],
   "source": [
    "# Store the means and unique values of Number of Open Accounts in a list\n",
    "Num_of_open_acc=df['Number of Open Accounts'].unique()\n",
    "Num_of_open_acc.sort()\n",
    "Max_open_credit_avg=df3['Maximum Open Credit']\n",
    "\n",
    "# Create the dictionary of Number of Open Accounts as the key and the mean Maximum Open Credit as the value\n",
    "max_credit_dict = {}\n",
    "\n",
    "# fill the dictionary \n",
    "Num_of_open_acc_and_Max_open_credit = zip(Num_of_open_acc, Max_open_credit_avg)\n",
    "for Num_of_open_acc, Max_open_credit_avg in Num_of_open_acc_and_Max_open_credit:\n",
    "    max_credit_dict[Num_of_open_acc] = Max_open_credit_avg    \n"
   ]
  },
  {
   "cell_type": "code",
   "execution_count": 31,
   "metadata": {},
   "outputs": [
    {
     "data": {
      "text/plain": [
       "215700"
      ]
     },
     "execution_count": 31,
     "metadata": {},
     "output_type": "execute_result"
    }
   ],
   "source": [
    "len(df)"
   ]
  },
  {
   "cell_type": "markdown",
   "metadata": {},
   "source": [
    "Now that we have the dictionary we will use the dictionary to fill in the values in the index positions we stored in a list above."
   ]
  },
  {
   "cell_type": "code",
   "execution_count": 32,
   "metadata": {
    "collapsed": true
   },
   "outputs": [],
   "source": [
    "# loop iterates through the index list applying the dictionary at each position\n",
    "for i in indexlist:\n",
    "    num=df.ix[i]['Number of Open Accounts']\n",
    "    df.at[i,'Maximum Open Credit']=max_credit_dict[num]"
   ]
  },
  {
   "cell_type": "code",
   "execution_count": 33,
   "metadata": {},
   "outputs": [
    {
     "name": "stdout",
     "output_type": "stream",
     "text": [
      "<class 'pandas.core.frame.DataFrame'>\n",
      "Index: 215702 entries, 000025bb-5694-4cff-b17d-192b1a98ba44 to 157242\n",
      "Data columns (total 19 columns):\n",
      "Loan ID                         215700 non-null object\n",
      "Customer ID                     215700 non-null object\n",
      "Loan Status                     215700 non-null object\n",
      "Current Loan Amount             215700 non-null float64\n",
      "Term                            215700 non-null object\n",
      "Credit Score                    171202 non-null float64\n",
      "Years in current job            215700 non-null object\n",
      "Home Ownership                  215700 non-null object\n",
      "Annual Income                   171202 non-null float64\n",
      "Purpose                         215700 non-null object\n",
      "Monthly Debt                    215700 non-null float64\n",
      "Years of Credit History         215700 non-null float64\n",
      "Months since last delinquent    215700 non-null object\n",
      "Number of Open Accounts         215700 non-null float64\n",
      "Number of Credit Problems       215700 non-null float64\n",
      "Current Credit Balance          215700 non-null float64\n",
      "Maximum Open Credit             215702 non-null float64\n",
      "Bankruptcies                    215700 non-null float64\n",
      "Tax Liens                       215700 non-null float64\n",
      "dtypes: float64(11), object(8)\n",
      "memory usage: 42.9+ MB\n"
     ]
    }
   ],
   "source": [
    "df.info()"
   ]
  },
  {
   "cell_type": "markdown",
   "metadata": {},
   "source": [
    "## Predicting Null Values \n",
    "   1) Credit Score<br>\n",
    "   2) Annual Income<br>"
   ]
  },
  {
   "cell_type": "markdown",
   "metadata": {},
   "source": [
    "### Credit Score null values"
   ]
  },
  {
   "cell_type": "markdown",
   "metadata": {},
   "source": [
    "We will use a algorithm  to predict the null values for credit score."
   ]
  },
  {
   "cell_type": "markdown",
   "metadata": {},
   "source": [
    "First we must find which variables are good predictors of Credit Score by looking at the correlation of other variables"
   ]
  },
  {
   "cell_type": "code",
   "execution_count": 34,
   "metadata": {},
   "outputs": [
    {
     "name": "stderr",
     "output_type": "stream",
     "text": [
      "C:\\Users\\smont\\Anaconda2\\lib\\site-packages\\ipykernel_launcher.py:2: DeprecationWarning: \n",
      ".ix is deprecated. Please use\n",
      ".loc for label based indexing or\n",
      ".iloc for positional indexing\n",
      "\n",
      "See the documentation here:\n",
      "http://pandas.pydata.org/pandas-docs/stable/indexing.html#deprecate_ix\n",
      "  \n"
     ]
    },
    {
     "data": {
      "text/plain": [
       "Current Loan Amount         -0.201107\n",
       "Credit Score                 1.000000\n",
       "Annual Income                0.014844\n",
       "Monthly Debt                -0.088166\n",
       "Years of Credit History      0.085461\n",
       "Number of Open Accounts     -0.038642\n",
       "Number of Credit Problems   -0.062030\n",
       "Current Credit Balance      -0.014965\n",
       "Maximum Open Credit          0.010204\n",
       "Bankruptcies                -0.048236\n",
       "Name: Credit Score, dtype: float64"
      ]
     },
     "execution_count": 34,
     "metadata": {},
     "output_type": "execute_result"
    }
   ],
   "source": [
    "# Looking at Credit Score Correlation\n",
    "df.corr().ix['Credit Score', :-1]\n"
   ]
  },
  {
   "cell_type": "code",
   "execution_count": 35,
   "metadata": {},
   "outputs": [],
   "source": [
    "s=0\n",
    "indexlist=[]\n",
    "for row in df['Credit Score']:  \n",
    "    try:\n",
    "        int(row)\n",
    "    except ValueError:\n",
    "        indexlist.append(s)\n",
    "    s+=1\n",
    "\n",
    "x_test=df.iloc[indexlist]\n",
    "x_test=x_test[['Current Loan Amount','Monthly Debt','Years of Credit History','Current Credit Balance']]"
   ]
  },
  {
   "cell_type": "code",
   "execution_count": 36,
   "metadata": {},
   "outputs": [],
   "source": [
    "x_test.dropna(inplace=True)"
   ]
  },
  {
   "cell_type": "code",
   "execution_count": 37,
   "metadata": {},
   "outputs": [],
   "source": [
    "df_train=df.copy()\n",
    "\n",
    "df_train.dropna(inplace=True)\n",
    "\n",
    "X_train=df_train[['Current Loan Amount','Monthly Debt','Years of Credit History','Current Credit Balance']]\n",
    "y_train=df_train[['Credit Score']]\n",
    "\n",
    "from sklearn import linear_model\n",
    "from sklearn.linear_model import Ridge\n",
    "\n",
    "creditreg= linear_model.Ridge()\n",
    "creditreg.fit(X_train, y_train)\n",
    "\n",
    "y_pred_credit=creditreg.predict(x_test)"
   ]
  },
  {
   "cell_type": "code",
   "execution_count": 38,
   "metadata": {},
   "outputs": [
    {
     "ename": "IndexError",
     "evalue": "index 44498 is out of bounds for axis 0 with size 44498",
     "output_type": "error",
     "traceback": [
      "\u001b[1;31m\u001b[0m",
      "\u001b[1;31mIndexError\u001b[0mTraceback (most recent call last)",
      "\u001b[1;32m<ipython-input-38-0d53c715e31f>\u001b[0m in \u001b[0;36m<module>\u001b[1;34m()\u001b[0m\n\u001b[0;32m      2\u001b[0m \u001b[1;32mfor\u001b[0m \u001b[0mindex\u001b[0m\u001b[1;33m,\u001b[0m \u001b[0mrow\u001b[0m \u001b[1;32min\u001b[0m \u001b[0mdf\u001b[0m\u001b[1;33m.\u001b[0m\u001b[0miterrows\u001b[0m\u001b[1;33m(\u001b[0m\u001b[1;33m)\u001b[0m\u001b[1;33m:\u001b[0m\u001b[1;33m\u001b[0m\u001b[0m\n\u001b[0;32m      3\u001b[0m     \u001b[1;32mif\u001b[0m\u001b[1;33m(\u001b[0m\u001b[0mpd\u001b[0m\u001b[1;33m.\u001b[0m\u001b[0misnull\u001b[0m\u001b[1;33m(\u001b[0m\u001b[0mrow\u001b[0m\u001b[1;33m[\u001b[0m\u001b[1;34m'Credit Score'\u001b[0m\u001b[1;33m]\u001b[0m\u001b[1;33m)\u001b[0m\u001b[1;33m)\u001b[0m\u001b[1;33m:\u001b[0m\u001b[1;33m\u001b[0m\u001b[0m\n\u001b[1;32m----> 4\u001b[1;33m         \u001b[0mdf\u001b[0m\u001b[1;33m.\u001b[0m\u001b[0mat\u001b[0m\u001b[1;33m[\u001b[0m\u001b[0mindex\u001b[0m\u001b[1;33m,\u001b[0m\u001b[1;34m'Credit Score'\u001b[0m\u001b[1;33m]\u001b[0m\u001b[1;33m=\u001b[0m\u001b[0my_pred_credit\u001b[0m\u001b[1;33m[\u001b[0m\u001b[0mi\u001b[0m\u001b[1;33m]\u001b[0m\u001b[1;33m\u001b[0m\u001b[0m\n\u001b[0m\u001b[0;32m      5\u001b[0m         \u001b[0mi\u001b[0m\u001b[1;33m+=\u001b[0m\u001b[1;36m1\u001b[0m\u001b[1;33m\u001b[0m\u001b[0m\n\u001b[0;32m      6\u001b[0m \u001b[1;33m\u001b[0m\u001b[0m\n",
      "\u001b[1;31mIndexError\u001b[0m: index 44498 is out of bounds for axis 0 with size 44498"
     ]
    }
   ],
   "source": [
    "i=0\n",
    "for index, row in df.iterrows():\n",
    "    if(pd.isnull(row['Credit Score'])):\n",
    "        df.at[index,'Credit Score']=y_pred_credit[i]\n",
    "        i+=1\n",
    "    "
   ]
  },
  {
   "cell_type": "code",
   "execution_count": null,
   "metadata": {
    "collapsed": true
   },
   "outputs": [],
   "source": [
    "# Annual Income null values\n",
    "df.corr()"
   ]
  },
  {
   "cell_type": "code",
   "execution_count": null,
   "metadata": {
    "collapsed": true
   },
   "outputs": [],
   "source": [
    "# Annual Income null values\n",
    "\n",
    "s=0\n",
    "indexlist=[]\n",
    "for row in df['Annual Income']:  \n",
    "    try:\n",
    "        int(row)\n",
    "    except ValueError:\n",
    "        indexlist.append(s)\n",
    "    s+=1\n",
    "\n",
    "x_test=df.loc[indexlist]\n",
    "x_test=x_test[['Current Loan Amount','Monthly Debt','Years of Credit History','Current Credit Balance']]"
   ]
  },
  {
   "cell_type": "code",
   "execution_count": null,
   "metadata": {
    "collapsed": true
   },
   "outputs": [],
   "source": [
    "df_train=df.copy()\n",
    "\n",
    "df_train.dropna(inplace=True)\n",
    "\n",
    "X_train=df_train[['Current Loan Amount','Monthly Debt','Years of Credit History','Current Credit Balance']]\n",
    "y_train=df_train[['Annual Income']]\n",
    "\n",
    "from sklearn import linear_model\n",
    "from sklearn.linear_model import Ridge\n",
    "\n",
    "incomereg= linear_model.Ridge()\n",
    "incomereg.fit(X_train, y_train)\n",
    "\n",
    "y_pred_income=incomereg.predict(x_test)"
   ]
  },
  {
   "cell_type": "code",
   "execution_count": null,
   "metadata": {
    "collapsed": true
   },
   "outputs": [],
   "source": [
    "i=0\n",
    "for index, row in df.iterrows():\n",
    "    if(pd.isnull(row['Annual Income'])):\n",
    "        df.at[index,'Annual Income']=y_pred_income[i]\n",
    "        i+=1"
   ]
  },
  {
   "cell_type": "code",
   "execution_count": null,
   "metadata": {
    "collapsed": true
   },
   "outputs": [],
   "source": []
  },
  {
   "cell_type": "code",
   "execution_count": null,
   "metadata": {
    "collapsed": true
   },
   "outputs": [],
   "source": [
    "# feature enginering\n",
    "\n",
    "df['total credit']=df['Current Loan Amount']+df['Current Credit Balance']\n",
    "df['Coverage_ratio']=df['Annual Income']/(df['Monthly Debt']*12+1)"
   ]
  },
  {
   "cell_type": "code",
   "execution_count": null,
   "metadata": {
    "collapsed": true
   },
   "outputs": [],
   "source": [
    "# Variable Conversion\n",
    "\n",
    "df['Months since last delinquent']=df['Months since last delinquent'].astype('category')\n",
    "df['Years in current job']=df['Years in current job'].astype('category')"
   ]
  },
  {
   "cell_type": "code",
   "execution_count": null,
   "metadata": {
    "collapsed": true
   },
   "outputs": [],
   "source": [
    "Xy=df.copy()\n",
    "del Xy['Loan ID']\n",
    "del Xy['Customer ID']\n",
    "del Xy['Loan Status']\n",
    "\n",
    "Xy=pd.get_dummies(Xy,drop_first=True)"
   ]
  },
  {
   "cell_type": "code",
   "execution_count": null,
   "metadata": {
    "collapsed": true
   },
   "outputs": [],
   "source": [
    "X=Xy\n",
    "y=df[['Loan Status']]"
   ]
  },
  {
   "cell_type": "code",
   "execution_count": null,
   "metadata": {
    "collapsed": true
   },
   "outputs": [],
   "source": [
    "from sklearn.cross_validation import train_test_split\n",
    "\n",
    "X_train, X_test, y_train, y_test = train_test_split(X, y, test_size=.30, random_state=42) "
   ]
  },
  {
   "cell_type": "code",
   "execution_count": null,
   "metadata": {
    "collapsed": true
   },
   "outputs": [],
   "source": [
    "from sklearn.ensemble import AdaBoostClassifier, GradientBoostingClassifier, RandomForestClassifier\n",
    "from sklearn.tree import DecisionTreeClassifier\n",
    "\n",
    "tree = DecisionTreeClassifier()\n",
    "forest = RandomForestClassifier()\n",
    "gradient = GradientBoostingClassifier()\n",
    "ada = AdaBoostClassifier()"
   ]
  },
  {
   "cell_type": "code",
   "execution_count": null,
   "metadata": {
    "collapsed": true
   },
   "outputs": [],
   "source": [
    "t = tree.fit(X_train, y_train)\n",
    "f = forest.fit(X_train, y_train)\n",
    "g = gradient.fit(X_train, y_train)\n",
    "a = ada.fit(X_train, y_train)"
   ]
  },
  {
   "cell_type": "code",
   "execution_count": null,
   "metadata": {
    "collapsed": true
   },
   "outputs": [],
   "source": [
    "print(t.score(X_test, y_test))\n",
    "print(f.score(X_test, y_test))\n",
    "print(g.score(X_test, y_test))\n",
    "print(a.score(X_test, y_test))"
   ]
  }
 ],
 "metadata": {
  "kernelspec": {
   "display_name": "Python 2",
   "language": "python",
   "name": "python2"
  },
  "language_info": {
   "codemirror_mode": {
    "name": "ipython",
    "version": 2
   },
   "file_extension": ".py",
   "mimetype": "text/x-python",
   "name": "python",
   "nbconvert_exporter": "python",
   "pygments_lexer": "ipython2",
   "version": "2.7.13"
  }
 },
 "nbformat": 4,
 "nbformat_minor": 2
}
